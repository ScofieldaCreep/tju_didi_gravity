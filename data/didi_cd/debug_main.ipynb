{
 "cells": [
  {
   "cell_type": "code",
   "execution_count": 1,
   "metadata": {},
   "outputs": [
    {
     "name": "stderr",
     "output_type": "stream",
     "text": [
      "usage: ipykernel_launcher.py [-h] [--batch_size N] [--test-batch-size N]\n",
      "                             [--epochs N] [--lr LR] [--momentum M] [--seed S]\n",
      "                             [--log-interval N] [--device DEVICE]\n",
      "                             [--mode MODE]\n",
      "                             [--tessellation-area TESSELLATION_AREA]\n",
      "                             [--tessellation-size TESSELLATION_SIZE]\n",
      "                             [--dataset DATASET]\n",
      "                             [--tile-id-column TILE_ID_COLUMN]\n",
      "                             [--tile-geometry TILE_GEOMETRY]\n",
      "                             [--oa-id-column OA_ID_COLUMN]\n",
      "                             [--oa-geometry OA_GEOMETRY]\n",
      "                             [--flow-origin-column FLOW_ORIGIN_COLUMN]\n",
      "                             [--flow-destination-column FLOW_DESTINATION_COLUMN]\n",
      "                             [--flow-flows-column FLOW_FLOWS_COLUMN]\n",
      "ipykernel_launcher.py: error: unrecognized arguments: -f /Users/chizhang/Library/Jupyter/runtime/kernel-8a53a81f-0ea0-48a3-90ad-8391486817ba.json\n"
     ]
    },
    {
     "ename": "SystemExit",
     "evalue": "2",
     "output_type": "error",
     "traceback": [
      "An exception has occurred, use %tb to see the full traceback.\n",
      "\u001b[0;31mSystemExit\u001b[0m\u001b[0;31m:\u001b[0m 2\n"
     ]
    },
    {
     "name": "stderr",
     "output_type": "stream",
     "text": [
      "/opt/anaconda3/envs/pytorch/lib/python3.9/site-packages/IPython/core/interactiveshell.py:3406: UserWarning: To exit: use 'exit', 'quit', or Ctrl-D.\n",
      "  warn(\"To exit: use 'exit', 'quit', or Ctrl-D.\", stacklevel=1)\n"
     ]
    }
   ],
   "source": [
    "from __future__ import print_function\n",
    "\n",
    "import argparse\n",
    "\n",
    "import torch.optim as optim\n",
    "import torch.utils.data.distributed\n",
    "\n",
    "import pandas as pd\n",
    "import numpy as np\n",
    "\n",
    "import random\n",
    "\n",
    "import os\n",
    "\n",
    "import time\n",
    "\n",
    "from importlib.machinery import SourceFileLoader\n",
    "\n",
    "# Training settings\n",
    "parser = argparse.ArgumentParser(description='DeepGravity')\n",
    "parser.add_argument('--batch_size', type=int, default=1, metavar='N',\n",
    "                    help='input batch size for training (default: 1)')\n",
    "parser.add_argument('--test-batch-size', type=int, default=1, metavar='N',\n",
    "                    help='input batch size for testing (default: 1)')\n",
    "parser.add_argument('--epochs', type=int, default=15, metavar='N',\n",
    "                    help='number of epochs to train (default: 10)')\n",
    "parser.add_argument('--lr', type=float, default=5e-6, metavar='LR',\n",
    "                    help='learning rate (default: 5e-6)')\n",
    "parser.add_argument('--momentum', type=float, default=0.1, metavar='M',\n",
    "                    help='SGD momentum (default: 0.9)')\n",
    "parser.add_argument('--seed', type=int, default=4050, metavar='S',\n",
    "                    help='random seed (default: 1234)')\n",
    "parser.add_argument('--log-interval', type=int, default=1, metavar='N',\n",
    "                    help='how many batches to wait before logging training status')\n",
    "parser.add_argument('--device', default='cpu',\n",
    "                    help='Wheter this is running on cpu or gpu')\n",
    "parser.add_argument('--mode', default='train', help='Can be train or test')\n",
    "# Model arguments\n",
    "parser.add_argument('--tessellation-area', default='Chengdu',\n",
    "                    help='The area to tessel if a tessellation is not provided')\n",
    "parser.add_argument('--tessellation-size', type=int, default=25000,\n",
    "                    help='The tessellation size (meters) if a tessellation is not provided')\n",
    "parser.add_argument('--dataset', default='didi_cd', help='The dataset to use')\n",
    "\n",
    "# Dataset arguments \n",
    "parser.add_argument('--tile-id-column', default='tile_ID', help='Column name of tile\\'s identifier')\n",
    "parser.add_argument('--tile-geometry', default='geometry', help='Column name of tile\\'s geometry')\n",
    "\n",
    "parser.add_argument('--oa-id-column', default='GEOID', help='Column name of oa\\'s identifier')\n",
    "parser.add_argument('--oa-geometry', default='geometry', help='Column name of oa\\'s geometry')\n",
    "\n",
    "parser.add_argument('--flow-origin-column', default='geoid_o', help='Column name of flows\\' origin')\n",
    "parser.add_argument('--flow-destination-column', default='geoid_d', help='Column name of flows\\' destination')\n",
    "parser.add_argument('--flow-flows-column', default='pop_flows', help='Column name of flows\\' actual value')\n",
    "\n",
    "args = parser.parse_args()\n",
    "\n",
    "# global settings\n",
    "model_type = 'DG'\n",
    "data_name = args.dataset"
   ]
  },
  {
   "cell_type": "code",
   "execution_count": null,
   "metadata": {},
   "outputs": [],
   "source": []
  }
 ],
 "metadata": {
  "kernelspec": {
   "display_name": "Python 3.9.13 ('pytorch')",
   "language": "python",
   "name": "python3"
  },
  "language_info": {
   "codemirror_mode": {
    "name": "ipython",
    "version": 3
   },
   "file_extension": ".py",
   "mimetype": "text/x-python",
   "name": "python",
   "nbconvert_exporter": "python",
   "pygments_lexer": "ipython3",
   "version": "3.9.13"
  },
  "orig_nbformat": 4,
  "vscode": {
   "interpreter": {
    "hash": "f5b916051ec391ef3c1c0123575e59cad2c35863d294dd079abc5845c0e5babb"
   }
  }
 },
 "nbformat": 4,
 "nbformat_minor": 2
}
