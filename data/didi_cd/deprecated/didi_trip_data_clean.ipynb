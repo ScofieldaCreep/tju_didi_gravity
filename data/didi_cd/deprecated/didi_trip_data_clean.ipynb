{
 "cells": [
  {
   "cell_type": "code",
   "execution_count": null,
   "metadata": {
    "collapsed": true
   },
   "outputs": [],
   "source": [
    "import time\n",
    "import pandas as pd\n",
    "import geopandas"
   ]
  },
  {
   "cell_type": "code",
   "execution_count": null,
   "metadata": {
    "collapsed": false
   },
   "outputs": [],
   "source": [
    "grid_features = geopandas.read_file('grid_features_4r.shp', dtype={'tile_ID':str})"
   ]
  },
  {
   "cell_type": "code",
   "execution_count": null,
   "metadata": {
    "collapsed": false
   },
   "outputs": [],
   "source": [
    "feature = grid_features[['pop', 'pop_den', 'road_den', 'inter_den', 'poi_den', 'price_k']]\n",
    "tessel = grid_features[['geometry']]"
   ]
  },
  {
   "cell_type": "code",
   "execution_count": null,
   "metadata": {
    "collapsed": false
   },
   "outputs": [],
   "source": [
    "# tessel['centroid'] = tessel['geometry'].centroid"
   ]
  },
  {
   "cell_type": "code",
   "execution_count": null,
   "metadata": {
    "collapsed": false
   },
   "outputs": [],
   "source": [
    "didi_flow = pd.read_csv('didi_trip.csv')[['lng_start', 'lng_end', 'lat_start', 'lat_end']]"
   ]
  },
  {
   "cell_type": "code",
   "execution_count": null,
   "metadata": {
    "collapsed": false
   },
   "outputs": [],
   "source": [
    "#  def loc_match(lng, lat, tesselation):\n",
    "#     match = 0\n",
    "#     min_dist = 10\n",
    "#     i = 0\n",
    "#     while i < len(tessel):\n",
    "#         lng_label = tessel['centroid'].x[i]\n",
    "#         lat_label = tessel['centroid'].y[i]\n",
    "#         dist_2 = pow((lng_label -lng), 2) + pow((lat_label - lat), 2)\n",
    "#         if dist_2 < min_dist:\n",
    "#             min_dist = dist_2\n",
    "#             match = i\n",
    "#         i += 1\n",
    "#     return match"
   ]
  },
  {
   "cell_type": "code",
   "execution_count": null,
   "metadata": {
    "collapsed": false
   },
   "outputs": [],
   "source": [
    "didi_flow['match_start'] = -1\n",
    "didi_flow['match_end'] = -1"
   ]
  },
  {
   "cell_type": "markdown",
   "metadata": {
    "collapsed": false
   },
   "source": [
    "def iter_match(didi):\n",
    "    for id, item in didi.iterrows():\n",
    "        didi['match_start'][id] = loc_match(item['lng_start'], item['lat_start'], tessel)\n",
    "        didi['match_end'][id] = loc_match(item['lng_end'], item['lat_end'], tessel)"
   ]
  },
  {
   "cell_type": "markdown",
   "metadata": {
    "collapsed": false
   },
   "source": [
    "iter_match(didi_flow.head(3))"
   ]
  },
  {
   "cell_type": "code",
   "execution_count": null,
   "metadata": {
    "collapsed": false
   },
   "outputs": [],
   "source": [
    "from shapely.geometry import Point\n",
    "from shapely.geometry.polygon import Polygon\n",
    "import datetime,time"
   ]
  },
  {
   "cell_type": "code",
   "execution_count": null,
   "metadata": {
    "collapsed": false
   },
   "outputs": [],
   "source": [
    "length = len(tessel)\n",
    "def single_flow(lng, lat, tesselation):\n",
    "    point = Point(lng, lat)\n",
    "    for i in range(length):\n",
    "        polygon = Polygon(tessel['geometry'][i])\n",
    "        if polygon.contains(point):\n",
    "            return i\n",
    "    return -2"
   ]
  },
  {
   "cell_type": "code",
   "execution_count": null,
   "metadata": {
    "collapsed": false
   },
   "outputs": [],
   "source": [
    "def didi_clean(data):\n",
    "    for id, item in data.iterrows():\n",
    "        data['match_start'][id] = single_flow(item['lng_start'], item['lat_start'], tessel)\n",
    "        data['match_end'][id] = single_flow(item['lng_end'], item['lat_end'], tessel)\n",
    "        if id % 1000 == 0:\n",
    "            print(id, time.strftime(\"%d %H:%M:%S\"), data['match_start'][id])"
   ]
  },
  {
   "cell_type": "code",
   "execution_count": null,
   "metadata": {
    "collapsed": false
   },
   "outputs": [],
   "source": [
    "path = '/Users/chizhang/Desktop/didi/deepgravity/data/didi_cd/batch_clean/batch_'\n",
    "def batch_clean(batch_size, remain, i):\n",
    "    if remain.shape[0] > batch_size:\n",
    "        deal_data = remain.head(batch_size)\n",
    "        didi_clean(deal_data)\n",
    "        deal_data.to_csv(str(path + str(i) + '.csv'), columns=['match_start', 'match_end'])\n",
    "        i += 1\n",
    "        batch_clean(batch_size, remain.tail(-batch_size), i)\n",
    "    else:\n",
    "        didi_clean(remain)\n",
    "        remain.to_csv('./batch_clean/batch_last.csv')"
   ]
  },
  {
   "cell_type": "code",
   "execution_count": null,
   "metadata": {
    "collapsed": false,
    "pycharm": {
     "is_executing": true
    }
   },
   "outputs": [],
   "source": [
    "batch_clean(149297, didi_flow.tail(-149297 * 39), 40)"
   ]
  },
  {
   "cell_type": "code",
   "execution_count": null,
   "metadata": {},
   "outputs": [],
   "source": [
    "df = pd.read_csv('/Users/chizhang/Desktop/didi/deepgravity/data/didi_cd/batch_clean/batch_43.csv')\n",
    "df2 = pd.read_csv('/Users/chizhang/Desktop/didi/deepgravity/data/didi_cd/batch_clean/batch_44.csv')\n",
    "df = df[['index', 'match_start', 'match_end']]\n",
    "df2 = df2[['index','match_start', 'match_end']]"
   ]
  },
  {
   "cell_type": "code",
   "execution_count": null,
   "metadata": {},
   "outputs": [],
   "source": [
    "df.to_csv('/Users/chizhang/Desktop/didi/deepgravity/data/didi_cd/batch_clean/batch_43.csv', index=False)\n",
    "df2.to_csv('/Users/chizhang/Desktop/didi/deepgravity/data/didi_cd/batch_clean/batch_44.csv', index=False)"
   ]
  },
  {
   "cell_type": "code",
   "execution_count": null,
   "metadata": {
    "collapsed": false
   },
   "outputs": [],
   "source": [
    "import glob\n",
    "import re"
   ]
  },
  {
   "cell_type": "code",
   "execution_count": null,
   "metadata": {},
   "outputs": [],
   "source": [
    "csv_lst = ['/Users/chizhang/Desktop/didi/deepgravity/data/didi_cd/batch_clean/batch_' + str(i+1) for i in range(0,44)]"
   ]
  },
  {
   "cell_type": "code",
   "execution_count": null,
   "metadata": {},
   "outputs": [],
   "source": [
    "csv_lst[1]"
   ]
  },
  {
   "cell_type": "code",
   "execution_count": null,
   "metadata": {},
   "outputs": [],
   "source": [
    "flow = pd.read_csv('/Users/chizhang/Desktop/didi/deepgravity/data/didi_cd/batch_clean/batch_1.csv')"
   ]
  },
  {
   "cell_type": "code",
   "execution_count": null,
   "metadata": {},
   "outputs": [],
   "source": [
    "for path in csv_lst:\n",
    "    if path == '/Users/chizhang/Desktop/didi/deepgravity/data/didi_cd/batch_clean/batch_1':\n",
    "        continue\n",
    "    df = pd.read_csv(path + '.csv')\n",
    "    flow = pd.concat([flow, df],join='inner',ignore_index=True)\n",
    "flow.to_csv('flows.csv')"
   ]
  },
  {
   "cell_type": "code",
   "execution_count": null,
   "metadata": {},
   "outputs": [],
   "source": [
    "flow = pd.read_csv('/Users/chizhang/Desktop/didi/deepgravity/data/didi_cd/flows.csv')"
   ]
  },
  {
   "cell_type": "code",
   "execution_count": null,
   "metadata": {},
   "outputs": [],
   "source": [
    "flow "
   ]
  },
  {
   "cell_type": "code",
   "execution_count": null,
   "metadata": {},
   "outputs": [],
   "source": [
    "flow = flow.iloc[:, [2,3]]"
   ]
  },
  {
   "cell_type": "code",
   "execution_count": null,
   "metadata": {},
   "outputs": [],
   "source": [
    "flow"
   ]
  },
  {
   "cell_type": "code",
   "execution_count": null,
   "metadata": {},
   "outputs": [],
   "source": [
    "didi_trip = pd.read_csv('/Users/chizhang/Desktop/didi/deepgravity/data/didi_cd/didi_trip.csv')"
   ]
  },
  {
   "cell_type": "code",
   "execution_count": null,
   "metadata": {},
   "outputs": [],
   "source": [
    "didi_trip = pd.concat([didi_trip, flow], axis=1)"
   ]
  },
  {
   "cell_type": "code",
   "execution_count": null,
   "metadata": {},
   "outputs": [],
   "source": [
    "didi_trip"
   ]
  },
  {
   "cell_type": "code",
   "execution_count": null,
   "metadata": {},
   "outputs": [],
   "source": [
    "didi_trip.to_csv('didi_trip_with_tessel.csv')"
   ]
  }
 ],
 "metadata": {
  "kernelspec": {
   "display_name": "Python 3.9.13 ('pytorch')",
   "language": "python",
   "name": "python3"
  },
  "language_info": {
   "codemirror_mode": {
    "name": "ipython",
    "version": 3
   },
   "file_extension": ".py",
   "mimetype": "text/x-python",
   "name": "python",
   "nbconvert_exporter": "python",
   "pygments_lexer": "ipython3",
   "version": "3.9.13"
  },
  "vscode": {
   "interpreter": {
    "hash": "f5b916051ec391ef3c1c0123575e59cad2c35863d294dd079abc5845c0e5babb"
   }
  }
 },
 "nbformat": 4,
 "nbformat_minor": 0
}
